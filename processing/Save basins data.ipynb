{
 "cells": [
  {
   "cell_type": "code",
   "execution_count": 1,
   "metadata": {},
   "outputs": [],
   "source": [
    "import numpy as np\n",
    "import matplotlib.pyplot as plt\n",
    "import pandas as pd\n",
    "import geopandas\n",
    "from datetime import date\n",
    "from matplotlib.colors import ListedColormap\n",
    "from mpl_toolkits.axes_grid1 import make_axes_locatable\n",
    "from progressbar import ProgressBar\n",
    "import time\n",
    "\n",
    "%run ../global_variables.py ./\n",
    "%run ../global_functions.py ./"
   ]
  },
  {
   "cell_type": "markdown",
   "metadata": {},
   "source": [
    "<div class=\"alert alert-block alert-info\">\n",
    "This notebook saves hydrological variables aggregated at the basin scale for all available datasets\n",
    "</div>"
   ]
  },
  {
   "cell_type": "markdown",
   "metadata": {},
   "source": [
    "# 1. Run through datasets and selected basins"
   ]
  },
  {
   "cell_type": "markdown",
   "metadata": {},
   "source": [
    "We select the basins we want to study. `NB_RUNOFF` is the number of runoff stations from [GRDC](https://www.bafg.de/SharedDocs/ExterneLinks/GRDC/grdc_stations_ftp.html) operating at least 1 year between 2003 and 2017, inside each basin."
   ]
  },
  {
   "cell_type": "code",
   "execution_count": 2,
   "metadata": {},
   "outputs": [],
   "source": [
    "basins=load_basins_data()"
   ]
  },
  {
   "cell_type": "code",
   "execution_count": 3,
   "metadata": {},
   "outputs": [
    {
     "data": {
      "text/html": [
       "<div>\n",
       "<style scoped>\n",
       "    .dataframe tbody tr th:only-of-type {\n",
       "        vertical-align: middle;\n",
       "    }\n",
       "\n",
       "    .dataframe tbody tr th {\n",
       "        vertical-align: top;\n",
       "    }\n",
       "\n",
       "    .dataframe thead th {\n",
       "        text-align: right;\n",
       "    }\n",
       "</style>\n",
       "<table border=\"1\" class=\"dataframe\">\n",
       "  <thead>\n",
       "    <tr style=\"text-align: right;\">\n",
       "      <th></th>\n",
       "      <th>AREA</th>\n",
       "      <th>CLIMATE</th>\n",
       "      <th>geometry</th>\n",
       "    </tr>\n",
       "    <tr>\n",
       "      <th>HYBAS_ID</th>\n",
       "      <th></th>\n",
       "      <th></th>\n",
       "      <th></th>\n",
       "    </tr>\n",
       "  </thead>\n",
       "  <tbody>\n",
       "    <tr>\n",
       "      <th>1030000010</th>\n",
       "      <td>2.336584e+05</td>\n",
       "      <td>16</td>\n",
       "      <td>POLYGON ((37.19167 21.13333, 37.19106 21.14909...</td>\n",
       "    </tr>\n",
       "    <tr>\n",
       "      <th>1030003990</th>\n",
       "      <td>5.167208e+05</td>\n",
       "      <td>16</td>\n",
       "      <td>POLYGON ((44.03333 1.10833, 44.02988 1.10745, ...</td>\n",
       "    </tr>\n",
       "    <tr>\n",
       "      <th>1030008100</th>\n",
       "      <td>7.943913e+05</td>\n",
       "      <td>16</td>\n",
       "      <td>POLYGON ((36.74167 4.06667, 36.74131 4.06909, ...</td>\n",
       "    </tr>\n",
       "    <tr>\n",
       "      <th>1030008110</th>\n",
       "      <td>1.034723e+06</td>\n",
       "      <td>13</td>\n",
       "      <td>MULTIPOLYGON (((36.95833 -18.02917, 36.96235 -...</td>\n",
       "    </tr>\n",
       "    <tr>\n",
       "      <th>1030011660</th>\n",
       "      <td>1.373188e+06</td>\n",
       "      <td>16</td>\n",
       "      <td>POLYGON ((35.26250 -18.23333, 35.26215 -18.244...</td>\n",
       "    </tr>\n",
       "    <tr>\n",
       "      <th>...</th>\n",
       "      <td>...</td>\n",
       "      <td>...</td>\n",
       "      <td>...</td>\n",
       "    </tr>\n",
       "    <tr>\n",
       "      <th>8030005520</th>\n",
       "      <td>3.686874e+05</td>\n",
       "      <td>4</td>\n",
       "      <td>POLYGON ((-143.99167 70.06667, -143.99097 70.0...</td>\n",
       "    </tr>\n",
       "    <tr>\n",
       "      <th>8030009560</th>\n",
       "      <td>1.805884e+06</td>\n",
       "      <td>4</td>\n",
       "      <td>POLYGON ((-117.24167 52.90417, -117.24910 52.9...</td>\n",
       "    </tr>\n",
       "    <tr>\n",
       "      <th>8030009570</th>\n",
       "      <td>1.550338e+05</td>\n",
       "      <td>4</td>\n",
       "      <td>POLYGON ((-133.00000 69.58333, -132.99923 69.5...</td>\n",
       "    </tr>\n",
       "    <tr>\n",
       "      <th>8030010700</th>\n",
       "      <td>5.459822e+05</td>\n",
       "      <td>4</td>\n",
       "      <td>MULTIPOLYGON (((-84.10000 65.87917, -84.09902 ...</td>\n",
       "    </tr>\n",
       "    <tr>\n",
       "      <th>8030016860</th>\n",
       "      <td>4.945111e+05</td>\n",
       "      <td>4</td>\n",
       "      <td>POLYGON ((-90.10000 63.90833, -90.10762 63.907...</td>\n",
       "    </tr>\n",
       "  </tbody>\n",
       "</table>\n",
       "<p>194 rows × 3 columns</p>\n",
       "</div>"
      ],
      "text/plain": [
       "                    AREA  CLIMATE  \\\n",
       "HYBAS_ID                            \n",
       "1030000010  2.336584e+05       16   \n",
       "1030003990  5.167208e+05       16   \n",
       "1030008100  7.943913e+05       16   \n",
       "1030008110  1.034723e+06       13   \n",
       "1030011660  1.373188e+06       16   \n",
       "...                  ...      ...   \n",
       "8030005520  3.686874e+05        4   \n",
       "8030009560  1.805884e+06        4   \n",
       "8030009570  1.550338e+05        4   \n",
       "8030010700  5.459822e+05        4   \n",
       "8030016860  4.945111e+05        4   \n",
       "\n",
       "                                                     geometry  \n",
       "HYBAS_ID                                                       \n",
       "1030000010  POLYGON ((37.19167 21.13333, 37.19106 21.14909...  \n",
       "1030003990  POLYGON ((44.03333 1.10833, 44.02988 1.10745, ...  \n",
       "1030008100  POLYGON ((36.74167 4.06667, 36.74131 4.06909, ...  \n",
       "1030008110  MULTIPOLYGON (((36.95833 -18.02917, 36.96235 -...  \n",
       "1030011660  POLYGON ((35.26250 -18.23333, 35.26215 -18.244...  \n",
       "...                                                       ...  \n",
       "8030005520  POLYGON ((-143.99167 70.06667, -143.99097 70.0...  \n",
       "8030009560  POLYGON ((-117.24167 52.90417, -117.24910 52.9...  \n",
       "8030009570  POLYGON ((-133.00000 69.58333, -132.99923 69.5...  \n",
       "8030010700  MULTIPOLYGON (((-84.10000 65.87917, -84.09902 ...  \n",
       "8030016860  POLYGON ((-90.10000 63.90833, -90.10762 63.907...  \n",
       "\n",
       "[194 rows x 3 columns]"
      ]
     },
     "execution_count": 3,
     "metadata": {},
     "output_type": "execute_result"
    }
   ],
   "source": [
    "basins"
   ]
  },
  {
   "cell_type": "code",
   "execution_count": 4,
   "metadata": {},
   "outputs": [
    {
     "name": "stdout",
     "output_type": "stream",
     "text": [
      "There are 194 basins in the selection:\n",
      "48 in climate zone 4\n",
      "40 in climate zone 8\n",
      "18 in climate zone 10\n",
      "44 in climate zone 13\n",
      "44 in climate zone 16\n"
     ]
    }
   ],
   "source": [
    "selected_basins=basins.copy()\n",
    "\n",
    "print(\"There are {} basins in the selection:\".format(selected_basins.shape[0]))\n",
    "for clim in np.unique(selected_basins['CLIMATE']):\n",
    "    print(str(selected_basins.loc[selected_basins['CLIMATE']==clim].shape[0])+' in climate zone '+str(clim))"
   ]
  },
  {
   "cell_type": "markdown",
   "metadata": {},
   "source": [
    "We plot selected_basins"
   ]
  },
  {
   "cell_type": "code",
   "execution_count": 18,
   "metadata": {},
   "outputs": [
    {
     "data": {
      "image/png": "[encoded data removed]",
      "text/plain": [
       "<Figure size 648x360 with 1 Axes>"
      ]
     },
     "metadata": {
      "needs_background": "light"
     },
     "output_type": "display_data"
    }
   ],
   "source": [
    "fig, ax = plt.subplots(figsize=(9,5))\n",
    "ax.set_aspect('equal')\n",
    "basins.plot(ax=ax,edgecolor='white',linewidth=0.5,column='CLIMATE',categorical=True,\n",
    "            cmap=ListedColormap([climate_colors[i-1] for i in np.unique(basins['CLIMATE'])]),\n",
    "                  legend=True)\n",
    "ax.set_facecolor(\"grey\")\n",
    "ax.set_title('{} level 3 basins larger than 65 000 $km^2$'.format(basins.shape[0]))\n",
    "plt.show()"
   ]
  },
  {
   "cell_type": "code",
   "execution_count": 17,
   "metadata": {},
   "outputs": [],
   "source": [
    "long=np.arange(-179.75,180.25,0.5)\n",
    "lat=np.arange(-89.75,90.25,0.5)\n",
    "(lat_flat,long_flat)=np.meshgrid(lat,long)\n",
    "df=pd.DataFrame({'x':long_flat.flatten(),'y':lat_flat.flatten()})\n",
    "spatial_grid_ref=geopandas.GeoDataFrame(df, geometry=geopandas.points_from_xy(df.x, df.y))"
   ]
  },
  {
   "cell_type": "code",
   "execution_count": 18,
   "metadata": {},
   "outputs": [
    {
     "data": {
      "text/html": [
       "<div>\n",
       "<style scoped>\n",
       "    .dataframe tbody tr th:only-of-type {\n",
       "        vertical-align: middle;\n",
       "    }\n",
       "\n",
       "    .dataframe tbody tr th {\n",
       "        vertical-align: top;\n",
       "    }\n",
       "\n",
       "    .dataframe thead th {\n",
       "        text-align: right;\n",
       "    }\n",
       "</style>\n",
       "<table border=\"1\" class=\"dataframe\">\n",
       "  <thead>\n",
       "    <tr style=\"text-align: right;\">\n",
       "      <th></th>\n",
       "      <th>x</th>\n",
       "      <th>y</th>\n",
       "      <th>geometry</th>\n",
       "    </tr>\n",
       "  </thead>\n",
       "  <tbody>\n",
       "    <tr>\n",
       "      <th>0</th>\n",
       "      <td>-179.75</td>\n",
       "      <td>-89.75</td>\n",
       "      <td>POINT (-179.75000 -89.75000)</td>\n",
       "    </tr>\n",
       "    <tr>\n",
       "      <th>1</th>\n",
       "      <td>-179.75</td>\n",
       "      <td>-89.25</td>\n",
       "      <td>POINT (-179.75000 -89.25000)</td>\n",
       "    </tr>\n",
       "    <tr>\n",
       "      <th>2</th>\n",
       "      <td>-179.75</td>\n",
       "      <td>-88.75</td>\n",
       "      <td>POINT (-179.75000 -88.75000)</td>\n",
       "    </tr>\n",
       "    <tr>\n",
       "      <th>3</th>\n",
       "      <td>-179.75</td>\n",
       "      <td>-88.25</td>\n",
       "      <td>POINT (-179.75000 -88.25000)</td>\n",
       "    </tr>\n",
       "    <tr>\n",
       "      <th>4</th>\n",
       "      <td>-179.75</td>\n",
       "      <td>-87.75</td>\n",
       "      <td>POINT (-179.75000 -87.75000)</td>\n",
       "    </tr>\n",
       "    <tr>\n",
       "      <th>...</th>\n",
       "      <td>...</td>\n",
       "      <td>...</td>\n",
       "      <td>...</td>\n",
       "    </tr>\n",
       "    <tr>\n",
       "      <th>259195</th>\n",
       "      <td>179.75</td>\n",
       "      <td>87.75</td>\n",
       "      <td>POINT (179.75000 87.75000)</td>\n",
       "    </tr>\n",
       "    <tr>\n",
       "      <th>259196</th>\n",
       "      <td>179.75</td>\n",
       "      <td>88.25</td>\n",
       "      <td>POINT (179.75000 88.25000)</td>\n",
       "    </tr>\n",
       "    <tr>\n",
       "      <th>259197</th>\n",
       "      <td>179.75</td>\n",
       "      <td>88.75</td>\n",
       "      <td>POINT (179.75000 88.75000)</td>\n",
       "    </tr>\n",
       "    <tr>\n",
       "      <th>259198</th>\n",
       "      <td>179.75</td>\n",
       "      <td>89.25</td>\n",
       "      <td>POINT (179.75000 89.25000)</td>\n",
       "    </tr>\n",
       "    <tr>\n",
       "      <th>259199</th>\n",
       "      <td>179.75</td>\n",
       "      <td>89.75</td>\n",
       "      <td>POINT (179.75000 89.75000)</td>\n",
       "    </tr>\n",
       "  </tbody>\n",
       "</table>\n",
       "<p>259200 rows × 3 columns</p>\n",
       "</div>"
      ],
      "text/plain": [
       "             x      y                      geometry\n",
       "0      -179.75 -89.75  POINT (-179.75000 -89.75000)\n",
       "1      -179.75 -89.25  POINT (-179.75000 -89.25000)\n",
       "2      -179.75 -88.75  POINT (-179.75000 -88.75000)\n",
       "3      -179.75 -88.25  POINT (-179.75000 -88.25000)\n",
       "4      -179.75 -87.75  POINT (-179.75000 -87.75000)\n",
       "...        ...    ...                           ...\n",
       "259195  179.75  87.75    POINT (179.75000 87.75000)\n",
       "259196  179.75  88.25    POINT (179.75000 88.25000)\n",
       "259197  179.75  88.75    POINT (179.75000 88.75000)\n",
       "259198  179.75  89.25    POINT (179.75000 89.25000)\n",
       "259199  179.75  89.75    POINT (179.75000 89.75000)\n",
       "\n",
       "[259200 rows x 3 columns]"
      ]
     },
     "execution_count": 18,
     "metadata": {},
     "output_type": "execute_result"
    }
   ],
   "source": [
    "spatial_grid_ref"
   ]
  },
  {
   "cell_type": "markdown",
   "metadata": {},
   "source": [
    "Save grid points selections for each basin"
   ]
  },
  {
   "cell_type": "code",
   "execution_count": 10,
   "metadata": {},
   "outputs": [],
   "source": [
    "for basin_id in selected_basins.index:\n",
    "    my_basin=selected_basins.loc[[basin_id],'geometry']\n",
    "    final_selection=find_coordinates_inside_basin(my_basin,spatial_grid_ref,selected_basins)\n",
    "    final_selection.to_file(\"../datasets/hydroATLAS_basins_grid/{}.shp\".format(basin_id))"
   ]
  },
  {
   "cell_type": "markdown",
   "metadata": {},
   "source": [
    "# Save hydrological time series for each dataset and each basin"
   ]
  },
  {
   "cell_type": "markdown",
   "metadata": {},
   "source": [
    "List of datasets available for each hydrological variable"
   ]
  },
  {
   "cell_type": "code",
   "execution_count": 6,
   "metadata": {},
   "outputs": [],
   "source": [
    "list_data_P=['CPC','CRU','ERA5_Land','GPCC','GPCP','GPM','MERRA2','MSWEP','TRMM']\n",
    "list_data_ET=['ERA5_Land','GLEAM','GLDAS20_NOAH36','GLDAS20_CLSM25','GLDAS20_VIC412',\n",
    "              'GLDAS21_NOAH36','GLDAS21_CLSM25','GLDAS21_VIC412','GLDAS22_CLSM25','MERRA2','MOD16'] # + SSEBop\n",
    "list_data_PET=['CRU','GLEAM'] # + SSEBop\n",
    "list_data_R=['ERA5_Land','GLDAS20_NOAH36','GLDAS20_CLSM25','GLDAS20_VIC412',\n",
    "             'GLDAS21_NOAH36','GLDAS21_CLSM25','GLDAS21_VIC412','GLDAS22_CLSM25','GRUN','MERRA2']\n",
    "list_data_TWS=['GRACE_CSR_mascons','GRACE_JPL_mascons','GRACE_CSR_grid']\n",
    "# we do not run over GRACE_ITSG_grid because the dataset is already provided with basin averages\n",
    "# also TWS_uncertainty with GRACE_JPL_mascons"
   ]
  },
  {
   "cell_type": "markdown",
   "metadata": {},
   "source": [
    "**For SSEBop, the spatial grid is different from the reference one => you need to use the old index selection**"
   ]
  },
  {
   "cell_type": "markdown",
   "metadata": {},
   "source": [
    "For each hydrological variable, loop over datasets, compute monthly data per basin and store them"
   ]
  },
  {
   "cell_type": "code",
   "execution_count": 6,
   "metadata": {
    "scrolled": true
   },
   "outputs": [
    {
     "name": "stderr",
     "output_type": "stream",
     "text": [
      "100% |########################################################################|\n",
      "100% |########################################################################|\n",
      "100% |########################################################################|\n"
     ]
    }
   ],
   "source": [
    "hydro_var_name='TWS'\n",
    "#hydro_var_name='TWS_uncertainty'\n",
    "#for data in list_data_P:\n",
    "for data in ['GRACE_CSR_mascons','GRACE_JPL_mascons','GRACE_CSR_grid']:\n",
    "    (spatial_grid,hydro_grid,time_hydro)=load_hydro_data(hydro_var_name,data,\n",
    "                                fill_value=dict_fill_value[data],version=version_data[data])\n",
    "\n",
    "    \n",
    "    \n",
    "    # dataframe to store results\n",
    "    col=['{}_{} {}'.format(hydro_var_name,data,d.date()) for d in time_hydro]\n",
    "    df1=pd.DataFrame(np.nan*np.ones((selected_basins.shape[0],len(col))),index=selected_basins.index,columns=col)\n",
    "    df2=pd.DataFrame(np.nan*np.ones((selected_basins.shape[0],len(col)-2)),index=selected_basins.index,columns=col[1:-1])\n",
    "    \n",
    "    pbar=ProgressBar()\n",
    "    nb_basins_missing=0\n",
    "    for basin_name in pbar(selected_basins.index):\n",
    "        # if spatial_grid is the same as the reference one, load final_selection\n",
    "        final_selection=geopandas.read_file(\"../datasets/hydroATLAS_basins_grid/{}.shp\".format(basin_name))\n",
    "        final_selection.set_index(pd.MultiIndex.from_frame(final_selection[['x','y']]),inplace=True)\n",
    "        hydro_grid.set_index(pd.MultiIndex.from_frame(hydro_grid[['x','y']]),inplace=True)\n",
    "        hydro_basin=final_selection.join(hydro_grid.loc[:,['{} {}'.format(hydro_var_name,d.date()) for d in time_hydro]])\n",
    "        hydro_basin.set_index(np.arange(hydro_basin.shape[0]),inplace=True)\n",
    "        \n",
    "        # otherwise, compute the index selection from scratch\n",
    "        #my_basin=selected_basins.loc[[basin_name],'geometry']\n",
    "        #final_selection=find_coordinates_inside_basin(my_basin,spatial_grid,basins)\n",
    "        #hydro_basin=hydro_grid.loc[final_selection.index]\n",
    "        \n",
    "        nb_missing_values=hydro_basin.loc[:,['{} {}'.format(hydro_var_name,d.date()) for d in time_hydro]].isna().sum()\n",
    "        filling=True # by default, there is no missing value\n",
    "        if np.max(nb_missing_values)>0: # there is a hole\n",
    "            # try to fill missing values\n",
    "            hydro_basin,filling=my_fillna(hydro_basin,hydro_var_name,time_hydro,data,version=version_data[data])\n",
    "        \n",
    "        if filling: # there is no (more) missing value\n",
    "            hydro_mean_basin,hydro_mean_basin_filtered=hydrological_variables_basin_filtered(hydro_basin,hydro_var_name,\n",
    "                                                                time_hydro,data,version=version_data[data])\n",
    "            df1.loc[basin_name]=hydro_mean_basin.values\n",
    "            df2.loc[basin_name]=hydro_mean_basin_filtered.values\n",
    "        \n",
    "        elif hydro_var_name[:3]=='TWS': # save months with no missing value and ignore others\n",
    "            col=['{} {}'.format(hydro_var_name,d.date()) for d in time_hydro]\n",
    "            col2=np.sum(np.isnan(hydro_basin[col]),axis=0)==0\n",
    "\n",
    "            # spatial average\n",
    "            hydro_mean_basin,hydro_mean_basin_filtered=hydrological_variables_basin_filtered(hydro_basin,hydro_var_name,\n",
    "                                                                time_hydro[np.where(col2)[0]],data,version=version_data[data])\n",
    "            # save\n",
    "            df1.loc[basin_name].iloc[np.where(col2)]=hydro_mean_basin.values\n",
    "            df2.loc[basin_name].iloc[np.where(col2)[0][1:-1]-1]=hydro_mean_basin_filtered.values\n",
    "            \n",
    "        else:\n",
    "            nb_basins_missing+=1\n",
    "            print(\"Hole not recovered in {} for {}_{}\".format(basin_name,hydro_var_name,data))\n",
    "        \n",
    "        \n",
    "            \n",
    "    df1.to_csv('../results/hydrology/{}_{}_monthly.csv'.format(hydro_var_name,data))\n",
    "    df2.to_csv('../results/hydrology/{}_{}_monthly_filtered.csv'.format(hydro_var_name,data))"
   ]
  },
  {
   "cell_type": "code",
   "execution_count": 5,
   "metadata": {},
   "outputs": [
    {
     "data": {
      "text/plain": [
       "10"
      ]
     },
     "execution_count": 5,
     "metadata": {},
     "output_type": "execute_result"
    }
   ],
   "source": [
    "nb_basins_missing"
   ]
  }
 ],
 "metadata": {
  "kernelspec": {
   "display_name": "Python 3",
   "language": "python",
   "name": "python3"
  },
  "language_info": {
   "codemirror_mode": {
    "name": "ipython",
    "version": 3
   },
   "file_extension": ".py",
   "mimetype": "text/x-python",
   "name": "python",
   "nbconvert_exporter": "python",
   "pygments_lexer": "ipython3",
   "version": "3.6.10"
  }
 },
 "nbformat": 4,
 "nbformat_minor": 4
}
